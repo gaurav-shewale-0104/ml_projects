{
 "cells": [
  {
   "cell_type": "code",
   "execution_count": null,
   "id": "2fca14e8-6ebc-493a-84ca-eafcfaa1893b",
   "metadata": {},
   "outputs": [],
   "source": [
    "Step 1 : Problem Statement\n",
    "predict the right group of the new customers. [95%]"
   ]
  },
  {
   "cell_type": "markdown",
   "id": "89d07955-78e3-4ae2-98e8-93fe5c424027",
   "metadata": {},
   "source": [
    "## Step 2 : Data Gathering"
   ]
  },
  {
   "cell_type": "markdown",
   "id": "6da75ab0-4a10-49e9-96c7-fe8ac5268556",
   "metadata": {},
   "source": [
    "### Import All Libraries"
   ]
  },
  {
   "cell_type": "code",
   "execution_count": 1,
   "id": "f73d18ac-877b-4c23-8e43-bfc6e331147a",
   "metadata": {},
   "outputs": [],
   "source": [
    "import pandas as pd\n",
    "import numpy as np\n",
    "\n",
    "import matplotlib.pyplot as plt\n",
    "import seaborn as sns\n",
    "\n",
    "from sklearn.linear_model import LogisticRegression\n",
    "from sklearn.model_selection import train_test_split\n",
    "\n",
    "from sklearn.metrics import accuracy_score,confusion_matrix,classification_report,roc_auc_score,roc_curve"
   ]
  },
  {
   "cell_type": "code",
   "execution_count": 4,
   "id": "2826b7ec-3cf8-4cfb-88f1-f6d990ea8322",
   "metadata": {},
   "outputs": [
    {
     "data": {
      "text/html": [
       "<div>\n",
       "<style scoped>\n",
       "    .dataframe tbody tr th:only-of-type {\n",
       "        vertical-align: middle;\n",
       "    }\n",
       "\n",
       "    .dataframe tbody tr th {\n",
       "        vertical-align: top;\n",
       "    }\n",
       "\n",
       "    .dataframe thead th {\n",
       "        text-align: right;\n",
       "    }\n",
       "</style>\n",
       "<table border=\"1\" class=\"dataframe\">\n",
       "  <thead>\n",
       "    <tr style=\"text-align: right;\">\n",
       "      <th></th>\n",
       "      <th>ID</th>\n",
       "      <th>Gender</th>\n",
       "      <th>Ever_Married</th>\n",
       "      <th>Age</th>\n",
       "      <th>Graduated</th>\n",
       "      <th>Profession</th>\n",
       "      <th>Work_Experience</th>\n",
       "      <th>Spending_Score</th>\n",
       "      <th>Family_Size</th>\n",
       "      <th>Var_1</th>\n",
       "      <th>Segmentation</th>\n",
       "    </tr>\n",
       "  </thead>\n",
       "  <tbody>\n",
       "    <tr>\n",
       "      <th>0</th>\n",
       "      <td>462809</td>\n",
       "      <td>Male</td>\n",
       "      <td>No</td>\n",
       "      <td>22</td>\n",
       "      <td>No</td>\n",
       "      <td>Healthcare</td>\n",
       "      <td>1.0</td>\n",
       "      <td>Low</td>\n",
       "      <td>4.0</td>\n",
       "      <td>Cat_4</td>\n",
       "      <td>D</td>\n",
       "    </tr>\n",
       "    <tr>\n",
       "      <th>1</th>\n",
       "      <td>462643</td>\n",
       "      <td>Female</td>\n",
       "      <td>Yes</td>\n",
       "      <td>38</td>\n",
       "      <td>Yes</td>\n",
       "      <td>Engineer</td>\n",
       "      <td>NaN</td>\n",
       "      <td>Average</td>\n",
       "      <td>3.0</td>\n",
       "      <td>Cat_4</td>\n",
       "      <td>A</td>\n",
       "    </tr>\n",
       "    <tr>\n",
       "      <th>2</th>\n",
       "      <td>466315</td>\n",
       "      <td>Female</td>\n",
       "      <td>Yes</td>\n",
       "      <td>67</td>\n",
       "      <td>Yes</td>\n",
       "      <td>Engineer</td>\n",
       "      <td>1.0</td>\n",
       "      <td>Low</td>\n",
       "      <td>1.0</td>\n",
       "      <td>Cat_6</td>\n",
       "      <td>B</td>\n",
       "    </tr>\n",
       "    <tr>\n",
       "      <th>3</th>\n",
       "      <td>461735</td>\n",
       "      <td>Male</td>\n",
       "      <td>Yes</td>\n",
       "      <td>67</td>\n",
       "      <td>Yes</td>\n",
       "      <td>Lawyer</td>\n",
       "      <td>0.0</td>\n",
       "      <td>High</td>\n",
       "      <td>2.0</td>\n",
       "      <td>Cat_6</td>\n",
       "      <td>B</td>\n",
       "    </tr>\n",
       "    <tr>\n",
       "      <th>4</th>\n",
       "      <td>462669</td>\n",
       "      <td>Female</td>\n",
       "      <td>Yes</td>\n",
       "      <td>40</td>\n",
       "      <td>Yes</td>\n",
       "      <td>Entertainment</td>\n",
       "      <td>NaN</td>\n",
       "      <td>High</td>\n",
       "      <td>6.0</td>\n",
       "      <td>Cat_6</td>\n",
       "      <td>A</td>\n",
       "    </tr>\n",
       "    <tr>\n",
       "      <th>...</th>\n",
       "      <td>...</td>\n",
       "      <td>...</td>\n",
       "      <td>...</td>\n",
       "      <td>...</td>\n",
       "      <td>...</td>\n",
       "      <td>...</td>\n",
       "      <td>...</td>\n",
       "      <td>...</td>\n",
       "      <td>...</td>\n",
       "      <td>...</td>\n",
       "      <td>...</td>\n",
       "    </tr>\n",
       "    <tr>\n",
       "      <th>8063</th>\n",
       "      <td>464018</td>\n",
       "      <td>Male</td>\n",
       "      <td>No</td>\n",
       "      <td>22</td>\n",
       "      <td>No</td>\n",
       "      <td>NaN</td>\n",
       "      <td>0.0</td>\n",
       "      <td>Low</td>\n",
       "      <td>7.0</td>\n",
       "      <td>Cat_1</td>\n",
       "      <td>D</td>\n",
       "    </tr>\n",
       "    <tr>\n",
       "      <th>8064</th>\n",
       "      <td>464685</td>\n",
       "      <td>Male</td>\n",
       "      <td>No</td>\n",
       "      <td>35</td>\n",
       "      <td>No</td>\n",
       "      <td>Executive</td>\n",
       "      <td>3.0</td>\n",
       "      <td>Low</td>\n",
       "      <td>4.0</td>\n",
       "      <td>Cat_4</td>\n",
       "      <td>D</td>\n",
       "    </tr>\n",
       "    <tr>\n",
       "      <th>8065</th>\n",
       "      <td>465406</td>\n",
       "      <td>Female</td>\n",
       "      <td>No</td>\n",
       "      <td>33</td>\n",
       "      <td>Yes</td>\n",
       "      <td>Healthcare</td>\n",
       "      <td>1.0</td>\n",
       "      <td>Low</td>\n",
       "      <td>1.0</td>\n",
       "      <td>Cat_6</td>\n",
       "      <td>D</td>\n",
       "    </tr>\n",
       "    <tr>\n",
       "      <th>8066</th>\n",
       "      <td>467299</td>\n",
       "      <td>Female</td>\n",
       "      <td>No</td>\n",
       "      <td>27</td>\n",
       "      <td>Yes</td>\n",
       "      <td>Healthcare</td>\n",
       "      <td>1.0</td>\n",
       "      <td>Low</td>\n",
       "      <td>4.0</td>\n",
       "      <td>Cat_6</td>\n",
       "      <td>B</td>\n",
       "    </tr>\n",
       "    <tr>\n",
       "      <th>8067</th>\n",
       "      <td>461879</td>\n",
       "      <td>Male</td>\n",
       "      <td>Yes</td>\n",
       "      <td>37</td>\n",
       "      <td>Yes</td>\n",
       "      <td>Executive</td>\n",
       "      <td>0.0</td>\n",
       "      <td>Average</td>\n",
       "      <td>3.0</td>\n",
       "      <td>Cat_4</td>\n",
       "      <td>B</td>\n",
       "    </tr>\n",
       "  </tbody>\n",
       "</table>\n",
       "<p>8068 rows × 11 columns</p>\n",
       "</div>"
      ],
      "text/plain": [
       "          ID  Gender Ever_Married  Age Graduated     Profession  \\\n",
       "0     462809    Male           No   22        No     Healthcare   \n",
       "1     462643  Female          Yes   38       Yes       Engineer   \n",
       "2     466315  Female          Yes   67       Yes       Engineer   \n",
       "3     461735    Male          Yes   67       Yes         Lawyer   \n",
       "4     462669  Female          Yes   40       Yes  Entertainment   \n",
       "...      ...     ...          ...  ...       ...            ...   \n",
       "8063  464018    Male           No   22        No            NaN   \n",
       "8064  464685    Male           No   35        No      Executive   \n",
       "8065  465406  Female           No   33       Yes     Healthcare   \n",
       "8066  467299  Female           No   27       Yes     Healthcare   \n",
       "8067  461879    Male          Yes   37       Yes      Executive   \n",
       "\n",
       "      Work_Experience Spending_Score  Family_Size  Var_1 Segmentation  \n",
       "0                 1.0            Low          4.0  Cat_4            D  \n",
       "1                 NaN        Average          3.0  Cat_4            A  \n",
       "2                 1.0            Low          1.0  Cat_6            B  \n",
       "3                 0.0           High          2.0  Cat_6            B  \n",
       "4                 NaN           High          6.0  Cat_6            A  \n",
       "...               ...            ...          ...    ...          ...  \n",
       "8063              0.0            Low          7.0  Cat_1            D  \n",
       "8064              3.0            Low          4.0  Cat_4            D  \n",
       "8065              1.0            Low          1.0  Cat_6            D  \n",
       "8066              1.0            Low          4.0  Cat_6            B  \n",
       "8067              0.0        Average          3.0  Cat_4            B  \n",
       "\n",
       "[8068 rows x 11 columns]"
      ]
     },
     "execution_count": 4,
     "metadata": {},
     "output_type": "execute_result"
    }
   ],
   "source": [
    "df = pd.read_csv(\"train.csv\")\n",
    "df"
   ]
  },
  {
   "cell_type": "markdown",
   "id": "657a40b4-3e38-45cd-9736-9385040a1fc9",
   "metadata": {},
   "source": [
    "# step 3 EDA"
   ]
  },
  {
   "cell_type": "code",
   "execution_count": 5,
   "id": "b7a88bd1-13e5-432e-a5f1-fa7d7de3124b",
   "metadata": {},
   "outputs": [
    {
     "name": "stdout",
     "output_type": "stream",
     "text": [
      "<class 'pandas.core.frame.DataFrame'>\n",
      "RangeIndex: 8068 entries, 0 to 8067\n",
      "Data columns (total 11 columns):\n",
      " #   Column           Non-Null Count  Dtype  \n",
      "---  ------           --------------  -----  \n",
      " 0   ID               8068 non-null   int64  \n",
      " 1   Gender           8068 non-null   object \n",
      " 2   Ever_Married     7928 non-null   object \n",
      " 3   Age              8068 non-null   int64  \n",
      " 4   Graduated        7990 non-null   object \n",
      " 5   Profession       7944 non-null   object \n",
      " 6   Work_Experience  7239 non-null   float64\n",
      " 7   Spending_Score   8068 non-null   object \n",
      " 8   Family_Size      7733 non-null   float64\n",
      " 9   Var_1            7992 non-null   object \n",
      " 10  Segmentation     8068 non-null   object \n",
      "dtypes: float64(2), int64(2), object(7)\n",
      "memory usage: 693.5+ KB\n"
     ]
    }
   ],
   "source": [
    "df.info()"
   ]
  },
  {
   "cell_type": "code",
   "execution_count": 7,
   "id": "90fb24d5-08a7-40c8-be74-ecfde2f9ed6b",
   "metadata": {},
   "outputs": [],
   "source": [
    "df.drop(\"ID\",axis=1,inplace=True)"
   ]
  },
  {
   "cell_type": "code",
   "execution_count": 8,
   "id": "acce420c-f941-4fbf-ac61-3465bb71e7e0",
   "metadata": {},
   "outputs": [
    {
     "name": "stdout",
     "output_type": "stream",
     "text": [
      "<class 'pandas.core.frame.DataFrame'>\n",
      "RangeIndex: 8068 entries, 0 to 8067\n",
      "Data columns (total 10 columns):\n",
      " #   Column           Non-Null Count  Dtype  \n",
      "---  ------           --------------  -----  \n",
      " 0   Gender           8068 non-null   object \n",
      " 1   Ever_Married     7928 non-null   object \n",
      " 2   Age              8068 non-null   int64  \n",
      " 3   Graduated        7990 non-null   object \n",
      " 4   Profession       7944 non-null   object \n",
      " 5   Work_Experience  7239 non-null   float64\n",
      " 6   Spending_Score   8068 non-null   object \n",
      " 7   Family_Size      7733 non-null   float64\n",
      " 8   Var_1            7992 non-null   object \n",
      " 9   Segmentation     8068 non-null   object \n",
      "dtypes: float64(2), int64(1), object(7)\n",
      "memory usage: 630.4+ KB\n"
     ]
    }
   ],
   "source": [
    "df.info()"
   ]
  },
  {
   "cell_type": "code",
   "execution_count": 9,
   "id": "4fafd332-4a02-4c01-ae5b-f8028aa07427",
   "metadata": {},
   "outputs": [
    {
     "data": {
      "text/plain": [
       "0         Male\n",
       "1       Female\n",
       "2       Female\n",
       "3         Male\n",
       "4       Female\n",
       "         ...  \n",
       "8063      Male\n",
       "8064      Male\n",
       "8065    Female\n",
       "8066    Female\n",
       "8067      Male\n",
       "Name: Gender, Length: 8068, dtype: object"
      ]
     },
     "execution_count": 9,
     "metadata": {},
     "output_type": "execute_result"
    }
   ],
   "source": [
    "df[\"Gender\"]"
   ]
  },
  {
   "cell_type": "code",
   "execution_count": 10,
   "id": "7f525ebc-4590-4653-87dc-ab879f201aac",
   "metadata": {},
   "outputs": [
    {
     "data": {
      "text/plain": [
       "Male      4417\n",
       "Female    3651\n",
       "Name: Gender, dtype: int64"
      ]
     },
     "execution_count": 10,
     "metadata": {},
     "output_type": "execute_result"
    }
   ],
   "source": [
    "df[\"Gender\"].value_counts()"
   ]
  },
  {
   "cell_type": "code",
   "execution_count": 11,
   "id": "85cc3b2d-f7d8-4b68-8836-748d6df36354",
   "metadata": {},
   "outputs": [
    {
     "data": {
      "text/plain": [
       "array(['Male', 'Female'], dtype=object)"
      ]
     },
     "execution_count": 11,
     "metadata": {},
     "output_type": "execute_result"
    }
   ],
   "source": [
    "df[\"Gender\"].unique()"
   ]
  },
  {
   "cell_type": "code",
   "execution_count": 14,
   "id": "5c29e1d0-b7e3-4b30-b0d3-453843585d9c",
   "metadata": {},
   "outputs": [],
   "source": [
    "df[\"Gender\"].replace({\"Male\":1,\"Female\":0},inplace=True)"
   ]
  },
  {
   "cell_type": "code",
   "execution_count": 15,
   "id": "1055fa96-fa19-44fa-8d4c-943a25f41295",
   "metadata": {},
   "outputs": [
    {
     "name": "stdout",
     "output_type": "stream",
     "text": [
      "<class 'pandas.core.frame.DataFrame'>\n",
      "RangeIndex: 8068 entries, 0 to 8067\n",
      "Data columns (total 10 columns):\n",
      " #   Column           Non-Null Count  Dtype  \n",
      "---  ------           --------------  -----  \n",
      " 0   Gender           8068 non-null   int64  \n",
      " 1   Ever_Married     7928 non-null   object \n",
      " 2   Age              8068 non-null   int64  \n",
      " 3   Graduated        7990 non-null   object \n",
      " 4   Profession       7944 non-null   object \n",
      " 5   Work_Experience  7239 non-null   float64\n",
      " 6   Spending_Score   8068 non-null   object \n",
      " 7   Family_Size      7733 non-null   float64\n",
      " 8   Var_1            7992 non-null   object \n",
      " 9   Segmentation     8068 non-null   object \n",
      "dtypes: float64(2), int64(2), object(6)\n",
      "memory usage: 630.4+ KB\n"
     ]
    }
   ],
   "source": [
    "df.info()"
   ]
  },
  {
   "cell_type": "code",
   "execution_count": 17,
   "id": "76807315-fec4-4595-9fbf-b877d4a7bbaa",
   "metadata": {},
   "outputs": [
    {
     "data": {
      "text/plain": [
       "Yes    4643\n",
       "No     3285\n",
       "Name: Ever_Married, dtype: int64"
      ]
     },
     "execution_count": 17,
     "metadata": {},
     "output_type": "execute_result"
    }
   ],
   "source": [
    "df[\"Ever_Married\"].value_counts()"
   ]
  },
  {
   "cell_type": "code",
   "execution_count": 18,
   "id": "48222291-6e87-47b1-87e1-60e9d502d5dd",
   "metadata": {},
   "outputs": [
    {
     "data": {
      "text/plain": [
       "array(['No', 'Yes', nan], dtype=object)"
      ]
     },
     "execution_count": 18,
     "metadata": {},
     "output_type": "execute_result"
    }
   ],
   "source": [
    "df[\"Ever_Married\"].unique()"
   ]
  },
  {
   "cell_type": "code",
   "execution_count": 19,
   "id": "0bce21d0-a0f2-4e8e-a0e5-4dd8f1218b11",
   "metadata": {},
   "outputs": [],
   "source": [
    "df[\"Ever_Married\"].replace({\"Yes\":1,\"No\":0},inplace = True)"
   ]
  },
  {
   "cell_type": "code",
   "execution_count": 20,
   "id": "24f30f1e-50fe-41dd-a1f2-c01eebf61caa",
   "metadata": {},
   "outputs": [
    {
     "data": {
      "text/plain": [
       "1.0"
      ]
     },
     "execution_count": 20,
     "metadata": {},
     "output_type": "execute_result"
    }
   ],
   "source": [
    "df[\"Ever_Married\"].median()"
   ]
  },
  {
   "cell_type": "code",
   "execution_count": 21,
   "id": "d13c5e38-d53b-40cd-aa4b-adcd7987aeb6",
   "metadata": {},
   "outputs": [],
   "source": [
    "df[\"Ever_Married\"].fillna(df[\"Ever_Married\"].median(),inplace=True)"
   ]
  },
  {
   "cell_type": "code",
   "execution_count": 22,
   "id": "c11727fd-0fb8-40ad-be72-41ee5228b50f",
   "metadata": {},
   "outputs": [
    {
     "name": "stdout",
     "output_type": "stream",
     "text": [
      "<class 'pandas.core.frame.DataFrame'>\n",
      "RangeIndex: 8068 entries, 0 to 8067\n",
      "Data columns (total 10 columns):\n",
      " #   Column           Non-Null Count  Dtype  \n",
      "---  ------           --------------  -----  \n",
      " 0   Gender           8068 non-null   int64  \n",
      " 1   Ever_Married     8068 non-null   float64\n",
      " 2   Age              8068 non-null   int64  \n",
      " 3   Graduated        7990 non-null   object \n",
      " 4   Profession       7944 non-null   object \n",
      " 5   Work_Experience  7239 non-null   float64\n",
      " 6   Spending_Score   8068 non-null   object \n",
      " 7   Family_Size      7733 non-null   float64\n",
      " 8   Var_1            7992 non-null   object \n",
      " 9   Segmentation     8068 non-null   object \n",
      "dtypes: float64(3), int64(2), object(5)\n",
      "memory usage: 630.4+ KB\n"
     ]
    }
   ],
   "source": [
    "df.info()"
   ]
  },
  {
   "cell_type": "code",
   "execution_count": 23,
   "id": "64bf2b59-3385-4fa7-9ea7-b5ad9fff6587",
   "metadata": {},
   "outputs": [
    {
     "data": {
      "text/plain": [
       "0        No\n",
       "1       Yes\n",
       "2       Yes\n",
       "3       Yes\n",
       "4       Yes\n",
       "       ... \n",
       "8063     No\n",
       "8064     No\n",
       "8065    Yes\n",
       "8066    Yes\n",
       "8067    Yes\n",
       "Name: Graduated, Length: 8068, dtype: object"
      ]
     },
     "execution_count": 23,
     "metadata": {},
     "output_type": "execute_result"
    }
   ],
   "source": [
    "df[\"Graduated\"]"
   ]
  },
  {
   "cell_type": "code",
   "execution_count": 24,
   "id": "207ca723-3888-4d39-ad27-5809ceda9a5b",
   "metadata": {},
   "outputs": [
    {
     "data": {
      "text/plain": [
       "Yes    4968\n",
       "No     3022\n",
       "Name: Graduated, dtype: int64"
      ]
     },
     "execution_count": 24,
     "metadata": {},
     "output_type": "execute_result"
    }
   ],
   "source": [
    "df[\"Graduated\"].value_counts()"
   ]
  },
  {
   "cell_type": "code",
   "execution_count": 25,
   "id": "34be3d4c-4a43-45fd-b56a-abaea5fd46f3",
   "metadata": {},
   "outputs": [
    {
     "data": {
      "text/plain": [
       "array(['No', 'Yes', nan], dtype=object)"
      ]
     },
     "execution_count": 25,
     "metadata": {},
     "output_type": "execute_result"
    }
   ],
   "source": [
    "df[\"Graduated\"].unique()"
   ]
  },
  {
   "cell_type": "code",
   "execution_count": 26,
   "id": "bb7be2ef-7a5b-404b-982b-0c649907c9a5",
   "metadata": {},
   "outputs": [],
   "source": [
    "df[\"Graduated\"].replace({\"Yes\":1,\"No\":0},inplace=True)"
   ]
  },
  {
   "cell_type": "code",
   "execution_count": 28,
   "id": "96676513-f3cd-469d-a088-00ad13c312e5",
   "metadata": {},
   "outputs": [],
   "source": [
    "df[\"Graduated\"].fillna(df[\"Graduated\"].median(),inplace=True)"
   ]
  },
  {
   "cell_type": "code",
   "execution_count": 29,
   "id": "1c3e0372-d30e-44da-8e3f-eef0ee8fc894",
   "metadata": {},
   "outputs": [
    {
     "name": "stdout",
     "output_type": "stream",
     "text": [
      "<class 'pandas.core.frame.DataFrame'>\n",
      "RangeIndex: 8068 entries, 0 to 8067\n",
      "Data columns (total 10 columns):\n",
      " #   Column           Non-Null Count  Dtype  \n",
      "---  ------           --------------  -----  \n",
      " 0   Gender           8068 non-null   int64  \n",
      " 1   Ever_Married     8068 non-null   float64\n",
      " 2   Age              8068 non-null   int64  \n",
      " 3   Graduated        8068 non-null   float64\n",
      " 4   Profession       7944 non-null   object \n",
      " 5   Work_Experience  7239 non-null   float64\n",
      " 6   Spending_Score   8068 non-null   object \n",
      " 7   Family_Size      7733 non-null   float64\n",
      " 8   Var_1            7992 non-null   object \n",
      " 9   Segmentation     8068 non-null   object \n",
      "dtypes: float64(4), int64(2), object(4)\n",
      "memory usage: 630.4+ KB\n"
     ]
    }
   ],
   "source": [
    "df.info()"
   ]
  },
  {
   "cell_type": "code",
   "execution_count": 31,
   "id": "fb235e8c-307a-47a0-abc3-2dcce0d618e9",
   "metadata": {},
   "outputs": [
    {
     "data": {
      "text/plain": [
       "Artist           2516\n",
       "Healthcare       1332\n",
       "Entertainment     949\n",
       "Engineer          699\n",
       "Doctor            688\n",
       "Lawyer            623\n",
       "Executive         599\n",
       "Marketing         292\n",
       "Homemaker         246\n",
       "Name: Profession, dtype: int64"
      ]
     },
     "execution_count": 31,
     "metadata": {},
     "output_type": "execute_result"
    }
   ],
   "source": [
    "df[\"Profession\"].value_counts()"
   ]
  },
  {
   "cell_type": "code",
   "execution_count": 32,
   "id": "2f8cc9a8-2b05-4318-b687-dbb0aa4cb79c",
   "metadata": {},
   "outputs": [
    {
     "data": {
      "text/plain": [
       "array(['Healthcare', 'Engineer', 'Lawyer', 'Entertainment', 'Artist',\n",
       "       'Executive', 'Doctor', 'Homemaker', 'Marketing', nan], dtype=object)"
      ]
     },
     "execution_count": 32,
     "metadata": {},
     "output_type": "execute_result"
    }
   ],
   "source": [
    "df[\"Profession\"].unique()"
   ]
  },
  {
   "cell_type": "code",
   "execution_count": 34,
   "id": "9fed2143-d75e-45a1-8d9e-2f602a7a479a",
   "metadata": {},
   "outputs": [
    {
     "data": {
      "text/plain": [
       "124"
      ]
     },
     "execution_count": 34,
     "metadata": {},
     "output_type": "execute_result"
    }
   ],
   "source": [
    "df[\"Profession\"].isna().sum()"
   ]
  },
  {
   "cell_type": "code",
   "execution_count": 35,
   "id": "9e4deadf-5aee-4cf7-97ce-ccdbed275175",
   "metadata": {},
   "outputs": [],
   "source": [
    "df[\"Profession\"].fillna(\"other\",inplace=True)"
   ]
  },
  {
   "cell_type": "code",
   "execution_count": 36,
   "id": "6b72b4d0-c1ee-4f9c-9173-b56b11e64de3",
   "metadata": {},
   "outputs": [
    {
     "data": {
      "text/plain": [
       "0"
      ]
     },
     "execution_count": 36,
     "metadata": {},
     "output_type": "execute_result"
    }
   ],
   "source": [
    "df[\"Profession\"].isna().sum()"
   ]
  },
  {
   "cell_type": "code",
   "execution_count": 37,
   "id": "76d7fcca-0f06-46f3-a79c-1f9ad31e74e7",
   "metadata": {},
   "outputs": [
    {
     "data": {
      "text/plain": [
       "Artist           2516\n",
       "Healthcare       1332\n",
       "Entertainment     949\n",
       "Engineer          699\n",
       "Doctor            688\n",
       "Lawyer            623\n",
       "Executive         599\n",
       "Marketing         292\n",
       "Homemaker         246\n",
       "other             124\n",
       "Name: Profession, dtype: int64"
      ]
     },
     "execution_count": 37,
     "metadata": {},
     "output_type": "execute_result"
    }
   ],
   "source": [
    "df[\"Profession\"].value_counts()"
   ]
  },
  {
   "cell_type": "code",
   "execution_count": 38,
   "id": "f51fd438-b28c-4e58-9e0c-045342f56436",
   "metadata": {},
   "outputs": [
    {
     "data": {
      "text/plain": [
       "array(['Healthcare', 'Engineer', 'Lawyer', 'Entertainment', 'Artist',\n",
       "       'Executive', 'Doctor', 'Homemaker', 'Marketing', 'other'],\n",
       "      dtype=object)"
      ]
     },
     "execution_count": 38,
     "metadata": {},
     "output_type": "execute_result"
    }
   ],
   "source": [
    "df[\"Profession\"].unique()"
   ]
  },
  {
   "cell_type": "code",
   "execution_count": 40,
   "id": "34d85476-2ceb-4f0f-a181-6c0153375e58",
   "metadata": {},
   "outputs": [
    {
     "data": {
      "text/html": [
       "<div>\n",
       "<style scoped>\n",
       "    .dataframe tbody tr th:only-of-type {\n",
       "        vertical-align: middle;\n",
       "    }\n",
       "\n",
       "    .dataframe tbody tr th {\n",
       "        vertical-align: top;\n",
       "    }\n",
       "\n",
       "    .dataframe thead th {\n",
       "        text-align: right;\n",
       "    }\n",
       "</style>\n",
       "<table border=\"1\" class=\"dataframe\">\n",
       "  <thead>\n",
       "    <tr style=\"text-align: right;\">\n",
       "      <th></th>\n",
       "      <th>prof_Artist</th>\n",
       "      <th>prof_Doctor</th>\n",
       "      <th>prof_Engineer</th>\n",
       "      <th>prof_Entertainment</th>\n",
       "      <th>prof_Executive</th>\n",
       "      <th>prof_Healthcare</th>\n",
       "      <th>prof_Homemaker</th>\n",
       "      <th>prof_Lawyer</th>\n",
       "      <th>prof_Marketing</th>\n",
       "      <th>prof_other</th>\n",
       "    </tr>\n",
       "  </thead>\n",
       "  <tbody>\n",
       "    <tr>\n",
       "      <th>0</th>\n",
       "      <td>0</td>\n",
       "      <td>0</td>\n",
       "      <td>0</td>\n",
       "      <td>0</td>\n",
       "      <td>0</td>\n",
       "      <td>1</td>\n",
       "      <td>0</td>\n",
       "      <td>0</td>\n",
       "      <td>0</td>\n",
       "      <td>0</td>\n",
       "    </tr>\n",
       "    <tr>\n",
       "      <th>1</th>\n",
       "      <td>0</td>\n",
       "      <td>0</td>\n",
       "      <td>1</td>\n",
       "      <td>0</td>\n",
       "      <td>0</td>\n",
       "      <td>0</td>\n",
       "      <td>0</td>\n",
       "      <td>0</td>\n",
       "      <td>0</td>\n",
       "      <td>0</td>\n",
       "    </tr>\n",
       "    <tr>\n",
       "      <th>2</th>\n",
       "      <td>0</td>\n",
       "      <td>0</td>\n",
       "      <td>1</td>\n",
       "      <td>0</td>\n",
       "      <td>0</td>\n",
       "      <td>0</td>\n",
       "      <td>0</td>\n",
       "      <td>0</td>\n",
       "      <td>0</td>\n",
       "      <td>0</td>\n",
       "    </tr>\n",
       "    <tr>\n",
       "      <th>3</th>\n",
       "      <td>0</td>\n",
       "      <td>0</td>\n",
       "      <td>0</td>\n",
       "      <td>0</td>\n",
       "      <td>0</td>\n",
       "      <td>0</td>\n",
       "      <td>0</td>\n",
       "      <td>1</td>\n",
       "      <td>0</td>\n",
       "      <td>0</td>\n",
       "    </tr>\n",
       "    <tr>\n",
       "      <th>4</th>\n",
       "      <td>0</td>\n",
       "      <td>0</td>\n",
       "      <td>0</td>\n",
       "      <td>1</td>\n",
       "      <td>0</td>\n",
       "      <td>0</td>\n",
       "      <td>0</td>\n",
       "      <td>0</td>\n",
       "      <td>0</td>\n",
       "      <td>0</td>\n",
       "    </tr>\n",
       "    <tr>\n",
       "      <th>...</th>\n",
       "      <td>...</td>\n",
       "      <td>...</td>\n",
       "      <td>...</td>\n",
       "      <td>...</td>\n",
       "      <td>...</td>\n",
       "      <td>...</td>\n",
       "      <td>...</td>\n",
       "      <td>...</td>\n",
       "      <td>...</td>\n",
       "      <td>...</td>\n",
       "    </tr>\n",
       "    <tr>\n",
       "      <th>8063</th>\n",
       "      <td>0</td>\n",
       "      <td>0</td>\n",
       "      <td>0</td>\n",
       "      <td>0</td>\n",
       "      <td>0</td>\n",
       "      <td>0</td>\n",
       "      <td>0</td>\n",
       "      <td>0</td>\n",
       "      <td>0</td>\n",
       "      <td>1</td>\n",
       "    </tr>\n",
       "    <tr>\n",
       "      <th>8064</th>\n",
       "      <td>0</td>\n",
       "      <td>0</td>\n",
       "      <td>0</td>\n",
       "      <td>0</td>\n",
       "      <td>1</td>\n",
       "      <td>0</td>\n",
       "      <td>0</td>\n",
       "      <td>0</td>\n",
       "      <td>0</td>\n",
       "      <td>0</td>\n",
       "    </tr>\n",
       "    <tr>\n",
       "      <th>8065</th>\n",
       "      <td>0</td>\n",
       "      <td>0</td>\n",
       "      <td>0</td>\n",
       "      <td>0</td>\n",
       "      <td>0</td>\n",
       "      <td>1</td>\n",
       "      <td>0</td>\n",
       "      <td>0</td>\n",
       "      <td>0</td>\n",
       "      <td>0</td>\n",
       "    </tr>\n",
       "    <tr>\n",
       "      <th>8066</th>\n",
       "      <td>0</td>\n",
       "      <td>0</td>\n",
       "      <td>0</td>\n",
       "      <td>0</td>\n",
       "      <td>0</td>\n",
       "      <td>1</td>\n",
       "      <td>0</td>\n",
       "      <td>0</td>\n",
       "      <td>0</td>\n",
       "      <td>0</td>\n",
       "    </tr>\n",
       "    <tr>\n",
       "      <th>8067</th>\n",
       "      <td>0</td>\n",
       "      <td>0</td>\n",
       "      <td>0</td>\n",
       "      <td>0</td>\n",
       "      <td>1</td>\n",
       "      <td>0</td>\n",
       "      <td>0</td>\n",
       "      <td>0</td>\n",
       "      <td>0</td>\n",
       "      <td>0</td>\n",
       "    </tr>\n",
       "  </tbody>\n",
       "</table>\n",
       "<p>8068 rows × 10 columns</p>\n",
       "</div>"
      ],
      "text/plain": [
       "      prof_Artist  prof_Doctor  prof_Engineer  prof_Entertainment  \\\n",
       "0               0            0              0                   0   \n",
       "1               0            0              1                   0   \n",
       "2               0            0              1                   0   \n",
       "3               0            0              0                   0   \n",
       "4               0            0              0                   1   \n",
       "...           ...          ...            ...                 ...   \n",
       "8063            0            0              0                   0   \n",
       "8064            0            0              0                   0   \n",
       "8065            0            0              0                   0   \n",
       "8066            0            0              0                   0   \n",
       "8067            0            0              0                   0   \n",
       "\n",
       "      prof_Executive  prof_Healthcare  prof_Homemaker  prof_Lawyer  \\\n",
       "0                  0                1               0            0   \n",
       "1                  0                0               0            0   \n",
       "2                  0                0               0            0   \n",
       "3                  0                0               0            1   \n",
       "4                  0                0               0            0   \n",
       "...              ...              ...             ...          ...   \n",
       "8063               0                0               0            0   \n",
       "8064               1                0               0            0   \n",
       "8065               0                1               0            0   \n",
       "8066               0                1               0            0   \n",
       "8067               1                0               0            0   \n",
       "\n",
       "      prof_Marketing  prof_other  \n",
       "0                  0           0  \n",
       "1                  0           0  \n",
       "2                  0           0  \n",
       "3                  0           0  \n",
       "4                  0           0  \n",
       "...              ...         ...  \n",
       "8063               0           1  \n",
       "8064               0           0  \n",
       "8065               0           0  \n",
       "8066               0           0  \n",
       "8067               0           0  \n",
       "\n",
       "[8068 rows x 10 columns]"
      ]
     },
     "execution_count": 40,
     "metadata": {},
     "output_type": "execute_result"
    }
   ],
   "source": [
    "df_prof = pd.get_dummies(df[\"Profession\"],prefix=\"prof\")\n",
    "df_prof"
   ]
  },
  {
   "cell_type": "code",
   "execution_count": 41,
   "id": "e7327ab9-6848-427d-95d0-88a88a426885",
   "metadata": {},
   "outputs": [
    {
     "data": {
      "text/html": [
       "<div>\n",
       "<style scoped>\n",
       "    .dataframe tbody tr th:only-of-type {\n",
       "        vertical-align: middle;\n",
       "    }\n",
       "\n",
       "    .dataframe tbody tr th {\n",
       "        vertical-align: top;\n",
       "    }\n",
       "\n",
       "    .dataframe thead th {\n",
       "        text-align: right;\n",
       "    }\n",
       "</style>\n",
       "<table border=\"1\" class=\"dataframe\">\n",
       "  <thead>\n",
       "    <tr style=\"text-align: right;\">\n",
       "      <th></th>\n",
       "      <th>prof_Doctor</th>\n",
       "      <th>prof_Engineer</th>\n",
       "      <th>prof_Entertainment</th>\n",
       "      <th>prof_Executive</th>\n",
       "      <th>prof_Healthcare</th>\n",
       "      <th>prof_Homemaker</th>\n",
       "      <th>prof_Lawyer</th>\n",
       "      <th>prof_Marketing</th>\n",
       "      <th>prof_other</th>\n",
       "    </tr>\n",
       "  </thead>\n",
       "  <tbody>\n",
       "    <tr>\n",
       "      <th>0</th>\n",
       "      <td>0</td>\n",
       "      <td>0</td>\n",
       "      <td>0</td>\n",
       "      <td>0</td>\n",
       "      <td>1</td>\n",
       "      <td>0</td>\n",
       "      <td>0</td>\n",
       "      <td>0</td>\n",
       "      <td>0</td>\n",
       "    </tr>\n",
       "    <tr>\n",
       "      <th>1</th>\n",
       "      <td>0</td>\n",
       "      <td>1</td>\n",
       "      <td>0</td>\n",
       "      <td>0</td>\n",
       "      <td>0</td>\n",
       "      <td>0</td>\n",
       "      <td>0</td>\n",
       "      <td>0</td>\n",
       "      <td>0</td>\n",
       "    </tr>\n",
       "    <tr>\n",
       "      <th>2</th>\n",
       "      <td>0</td>\n",
       "      <td>1</td>\n",
       "      <td>0</td>\n",
       "      <td>0</td>\n",
       "      <td>0</td>\n",
       "      <td>0</td>\n",
       "      <td>0</td>\n",
       "      <td>0</td>\n",
       "      <td>0</td>\n",
       "    </tr>\n",
       "    <tr>\n",
       "      <th>3</th>\n",
       "      <td>0</td>\n",
       "      <td>0</td>\n",
       "      <td>0</td>\n",
       "      <td>0</td>\n",
       "      <td>0</td>\n",
       "      <td>0</td>\n",
       "      <td>1</td>\n",
       "      <td>0</td>\n",
       "      <td>0</td>\n",
       "    </tr>\n",
       "    <tr>\n",
       "      <th>4</th>\n",
       "      <td>0</td>\n",
       "      <td>0</td>\n",
       "      <td>1</td>\n",
       "      <td>0</td>\n",
       "      <td>0</td>\n",
       "      <td>0</td>\n",
       "      <td>0</td>\n",
       "      <td>0</td>\n",
       "      <td>0</td>\n",
       "    </tr>\n",
       "    <tr>\n",
       "      <th>...</th>\n",
       "      <td>...</td>\n",
       "      <td>...</td>\n",
       "      <td>...</td>\n",
       "      <td>...</td>\n",
       "      <td>...</td>\n",
       "      <td>...</td>\n",
       "      <td>...</td>\n",
       "      <td>...</td>\n",
       "      <td>...</td>\n",
       "    </tr>\n",
       "    <tr>\n",
       "      <th>8063</th>\n",
       "      <td>0</td>\n",
       "      <td>0</td>\n",
       "      <td>0</td>\n",
       "      <td>0</td>\n",
       "      <td>0</td>\n",
       "      <td>0</td>\n",
       "      <td>0</td>\n",
       "      <td>0</td>\n",
       "      <td>1</td>\n",
       "    </tr>\n",
       "    <tr>\n",
       "      <th>8064</th>\n",
       "      <td>0</td>\n",
       "      <td>0</td>\n",
       "      <td>0</td>\n",
       "      <td>1</td>\n",
       "      <td>0</td>\n",
       "      <td>0</td>\n",
       "      <td>0</td>\n",
       "      <td>0</td>\n",
       "      <td>0</td>\n",
       "    </tr>\n",
       "    <tr>\n",
       "      <th>8065</th>\n",
       "      <td>0</td>\n",
       "      <td>0</td>\n",
       "      <td>0</td>\n",
       "      <td>0</td>\n",
       "      <td>1</td>\n",
       "      <td>0</td>\n",
       "      <td>0</td>\n",
       "      <td>0</td>\n",
       "      <td>0</td>\n",
       "    </tr>\n",
       "    <tr>\n",
       "      <th>8066</th>\n",
       "      <td>0</td>\n",
       "      <td>0</td>\n",
       "      <td>0</td>\n",
       "      <td>0</td>\n",
       "      <td>1</td>\n",
       "      <td>0</td>\n",
       "      <td>0</td>\n",
       "      <td>0</td>\n",
       "      <td>0</td>\n",
       "    </tr>\n",
       "    <tr>\n",
       "      <th>8067</th>\n",
       "      <td>0</td>\n",
       "      <td>0</td>\n",
       "      <td>0</td>\n",
       "      <td>1</td>\n",
       "      <td>0</td>\n",
       "      <td>0</td>\n",
       "      <td>0</td>\n",
       "      <td>0</td>\n",
       "      <td>0</td>\n",
       "    </tr>\n",
       "  </tbody>\n",
       "</table>\n",
       "<p>8068 rows × 9 columns</p>\n",
       "</div>"
      ],
      "text/plain": [
       "      prof_Doctor  prof_Engineer  prof_Entertainment  prof_Executive  \\\n",
       "0               0              0                   0               0   \n",
       "1               0              1                   0               0   \n",
       "2               0              1                   0               0   \n",
       "3               0              0                   0               0   \n",
       "4               0              0                   1               0   \n",
       "...           ...            ...                 ...             ...   \n",
       "8063            0              0                   0               0   \n",
       "8064            0              0                   0               1   \n",
       "8065            0              0                   0               0   \n",
       "8066            0              0                   0               0   \n",
       "8067            0              0                   0               1   \n",
       "\n",
       "      prof_Healthcare  prof_Homemaker  prof_Lawyer  prof_Marketing  prof_other  \n",
       "0                   1               0            0               0           0  \n",
       "1                   0               0            0               0           0  \n",
       "2                   0               0            0               0           0  \n",
       "3                   0               0            1               0           0  \n",
       "4                   0               0            0               0           0  \n",
       "...               ...             ...          ...             ...         ...  \n",
       "8063                0               0            0               0           1  \n",
       "8064                0               0            0               0           0  \n",
       "8065                1               0            0               0           0  \n",
       "8066                1               0            0               0           0  \n",
       "8067                0               0            0               0           0  \n",
       "\n",
       "[8068 rows x 9 columns]"
      ]
     },
     "execution_count": 41,
     "metadata": {},
     "output_type": "execute_result"
    }
   ],
   "source": [
    "df_prof =pd.get_dummies(df['Profession'],prefix='prof',drop_first=True)\n",
    "df_prof"
   ]
  },
  {
   "cell_type": "code",
   "execution_count": 42,
   "id": "42fb80be-0f6c-46f9-88d7-7eba61f6a97c",
   "metadata": {},
   "outputs": [
    {
     "name": "stdout",
     "output_type": "stream",
     "text": [
      "<class 'pandas.core.frame.DataFrame'>\n",
      "RangeIndex: 8068 entries, 0 to 8067\n",
      "Data columns (total 10 columns):\n",
      " #   Column           Non-Null Count  Dtype  \n",
      "---  ------           --------------  -----  \n",
      " 0   Gender           8068 non-null   int64  \n",
      " 1   Ever_Married     8068 non-null   float64\n",
      " 2   Age              8068 non-null   int64  \n",
      " 3   Graduated        8068 non-null   float64\n",
      " 4   Profession       8068 non-null   object \n",
      " 5   Work_Experience  7239 non-null   float64\n",
      " 6   Spending_Score   8068 non-null   object \n",
      " 7   Family_Size      7733 non-null   float64\n",
      " 8   Var_1            7992 non-null   object \n",
      " 9   Segmentation     8068 non-null   object \n",
      "dtypes: float64(4), int64(2), object(4)\n",
      "memory usage: 630.4+ KB\n"
     ]
    }
   ],
   "source": [
    "df.info()"
   ]
  },
  {
   "cell_type": "code",
   "execution_count": 43,
   "id": "9d861759-b2dc-4b1b-a047-9b0a3da920f8",
   "metadata": {},
   "outputs": [
    {
     "data": {
      "text/plain": [
       "0       1.0\n",
       "1       NaN\n",
       "2       1.0\n",
       "3       0.0\n",
       "4       NaN\n",
       "       ... \n",
       "8063    0.0\n",
       "8064    3.0\n",
       "8065    1.0\n",
       "8066    1.0\n",
       "8067    0.0\n",
       "Name: Work_Experience, Length: 8068, dtype: float64"
      ]
     },
     "execution_count": 43,
     "metadata": {},
     "output_type": "execute_result"
    }
   ],
   "source": [
    "df['Work_Experience']"
   ]
  },
  {
   "cell_type": "code",
   "execution_count": 44,
   "id": "1a60b867-1255-4cdf-b64a-70c06ec262c7",
   "metadata": {},
   "outputs": [
    {
     "data": {
      "text/plain": [
       "829"
      ]
     },
     "execution_count": 44,
     "metadata": {},
     "output_type": "execute_result"
    }
   ],
   "source": [
    "df['Work_Experience'].isna().sum()"
   ]
  },
  {
   "cell_type": "code",
   "execution_count": 45,
   "id": "4b735e3d-4bed-4674-bc20-f40231f8d8ee",
   "metadata": {},
   "outputs": [
    {
     "data": {
      "text/plain": [
       "1.0"
      ]
     },
     "execution_count": 45,
     "metadata": {},
     "output_type": "execute_result"
    }
   ],
   "source": [
    "df['Work_Experience'].median()"
   ]
  },
  {
   "cell_type": "code",
   "execution_count": 46,
   "id": "0b86263b-1b64-46e7-9809-a501868dcaf3",
   "metadata": {},
   "outputs": [
    {
     "data": {
      "text/plain": [
       "<AxesSubplot:xlabel='Work_Experience', ylabel='Density'>"
      ]
     },
     "execution_count": 46,
     "metadata": {},
     "output_type": "execute_result"
    },
    {
     "data": {
      "image/png": "[encoded data removed]",
      "text/plain": [
       "<Figure size 432x288 with 1 Axes>"
      ]
     },
     "metadata": {
      "needs_background": "light"
     },
     "output_type": "display_data"
    }
   ],
   "source": [
    "sns.kdeplot(df['Work_Experience'])"
   ]
  },
  {
   "cell_type": "code",
   "execution_count": 47,
   "id": "67227d2a-03d7-4094-b9c1-12ad3dceffd9",
   "metadata": {},
   "outputs": [],
   "source": [
    "df1 = df.copy() ### Savepoint "
   ]
  },
  {
   "cell_type": "code",
   "execution_count": 48,
   "id": "1423affc-321e-42d2-81a5-ea775d630217",
   "metadata": {},
   "outputs": [],
   "source": [
    "df1['Work_Experience'].fillna(df1['Work_Experience'].median(),inplace=True)"
   ]
  },
  {
   "cell_type": "code",
   "execution_count": 49,
   "id": "8f41b914-0610-400d-8479-82cadb56db05",
   "metadata": {},
   "outputs": [
    {
     "name": "stdout",
     "output_type": "stream",
     "text": [
      "<class 'pandas.core.frame.DataFrame'>\n",
      "RangeIndex: 8068 entries, 0 to 8067\n",
      "Data columns (total 10 columns):\n",
      " #   Column           Non-Null Count  Dtype  \n",
      "---  ------           --------------  -----  \n",
      " 0   Gender           8068 non-null   int64  \n",
      " 1   Ever_Married     8068 non-null   float64\n",
      " 2   Age              8068 non-null   int64  \n",
      " 3   Graduated        8068 non-null   float64\n",
      " 4   Profession       8068 non-null   object \n",
      " 5   Work_Experience  8068 non-null   float64\n",
      " 6   Spending_Score   8068 non-null   object \n",
      " 7   Family_Size      7733 non-null   float64\n",
      " 8   Var_1            7992 non-null   object \n",
      " 9   Segmentation     8068 non-null   object \n",
      "dtypes: float64(4), int64(2), object(4)\n",
      "memory usage: 630.4+ KB\n"
     ]
    }
   ],
   "source": [
    "df1.info()"
   ]
  },
  {
   "cell_type": "code",
   "execution_count": 50,
   "id": "943ad994-f342-4e30-8061-970ecdf368d8",
   "metadata": {},
   "outputs": [
    {
     "data": {
      "text/plain": [
       "0           Low\n",
       "1       Average\n",
       "2           Low\n",
       "3          High\n",
       "4          High\n",
       "         ...   \n",
       "8063        Low\n",
       "8064        Low\n",
       "8065        Low\n",
       "8066        Low\n",
       "8067    Average\n",
       "Name: Spending_Score, Length: 8068, dtype: object"
      ]
     },
     "execution_count": 50,
     "metadata": {},
     "output_type": "execute_result"
    }
   ],
   "source": [
    "df1['Spending_Score']"
   ]
  },
  {
   "cell_type": "code",
   "execution_count": 51,
   "id": "58e94460-ab1f-4a61-8eb3-1e57ab99950d",
   "metadata": {},
   "outputs": [],
   "source": [
    "df1['Spending_Score'].replace({'Low':0, 'Average':1, 'High':2},inplace=True)"
   ]
  },
  {
   "cell_type": "code",
   "execution_count": 52,
   "id": "8a78509c-2ba3-4e30-aced-e8e88538fcff",
   "metadata": {},
   "outputs": [
    {
     "name": "stdout",
     "output_type": "stream",
     "text": [
      "<class 'pandas.core.frame.DataFrame'>\n",
      "RangeIndex: 8068 entries, 0 to 8067\n",
      "Data columns (total 10 columns):\n",
      " #   Column           Non-Null Count  Dtype  \n",
      "---  ------           --------------  -----  \n",
      " 0   Gender           8068 non-null   int64  \n",
      " 1   Ever_Married     8068 non-null   float64\n",
      " 2   Age              8068 non-null   int64  \n",
      " 3   Graduated        8068 non-null   float64\n",
      " 4   Profession       8068 non-null   object \n",
      " 5   Work_Experience  8068 non-null   float64\n",
      " 6   Spending_Score   8068 non-null   int64  \n",
      " 7   Family_Size      7733 non-null   float64\n",
      " 8   Var_1            7992 non-null   object \n",
      " 9   Segmentation     8068 non-null   object \n",
      "dtypes: float64(4), int64(3), object(3)\n",
      "memory usage: 630.4+ KB\n"
     ]
    }
   ],
   "source": [
    "df1.info()"
   ]
  },
  {
   "cell_type": "code",
   "execution_count": 53,
   "id": "2e02eb4d-5685-4c4e-ba85-7dc30ac7c212",
   "metadata": {},
   "outputs": [
    {
     "data": {
      "text/plain": [
       "0       4.0\n",
       "1       3.0\n",
       "2       1.0\n",
       "3       2.0\n",
       "4       6.0\n",
       "       ... \n",
       "8063    7.0\n",
       "8064    4.0\n",
       "8065    1.0\n",
       "8066    4.0\n",
       "8067    3.0\n",
       "Name: Family_Size, Length: 8068, dtype: float64"
      ]
     },
     "execution_count": 53,
     "metadata": {},
     "output_type": "execute_result"
    }
   ],
   "source": [
    "df1['Family_Size']"
   ]
  },
  {
   "cell_type": "code",
   "execution_count": 54,
   "id": "9ac66b56-0443-4562-9a14-c741a27a52fa",
   "metadata": {},
   "outputs": [
    {
     "data": {
      "text/plain": [
       "335"
      ]
     },
     "execution_count": 54,
     "metadata": {},
     "output_type": "execute_result"
    }
   ],
   "source": [
    "df1['Family_Size'].isna().sum()"
   ]
  },
  {
   "cell_type": "code",
   "execution_count": 55,
   "id": "ed2fa3eb-1176-419b-b48a-31da93ac25d9",
   "metadata": {},
   "outputs": [
    {
     "data": {
      "text/plain": [
       "3.0"
      ]
     },
     "execution_count": 55,
     "metadata": {},
     "output_type": "execute_result"
    }
   ],
   "source": [
    "df1['Family_Size'].median()"
   ]
  },
  {
   "cell_type": "code",
   "execution_count": 56,
   "id": "5ba8b301-ffda-49de-9a6e-aa55b70463d8",
   "metadata": {},
   "outputs": [],
   "source": [
    "df1['Family_Size'].fillna(df1['Family_Size'].median(),inplace=True)"
   ]
  },
  {
   "cell_type": "code",
   "execution_count": 57,
   "id": "cbae4463-e44f-4f6f-a043-b38684b31362",
   "metadata": {},
   "outputs": [
    {
     "name": "stdout",
     "output_type": "stream",
     "text": [
      "<class 'pandas.core.frame.DataFrame'>\n",
      "RangeIndex: 8068 entries, 0 to 8067\n",
      "Data columns (total 10 columns):\n",
      " #   Column           Non-Null Count  Dtype  \n",
      "---  ------           --------------  -----  \n",
      " 0   Gender           8068 non-null   int64  \n",
      " 1   Ever_Married     8068 non-null   float64\n",
      " 2   Age              8068 non-null   int64  \n",
      " 3   Graduated        8068 non-null   float64\n",
      " 4   Profession       8068 non-null   object \n",
      " 5   Work_Experience  8068 non-null   float64\n",
      " 6   Spending_Score   8068 non-null   int64  \n",
      " 7   Family_Size      8068 non-null   float64\n",
      " 8   Var_1            7992 non-null   object \n",
      " 9   Segmentation     8068 non-null   object \n",
      "dtypes: float64(4), int64(3), object(3)\n",
      "memory usage: 630.4+ KB\n"
     ]
    }
   ],
   "source": [
    "df1.info()"
   ]
  },
  {
   "cell_type": "code",
   "execution_count": 59,
   "id": "4249e8c7-a081-40cb-9201-b2eff68c4493",
   "metadata": {},
   "outputs": [
    {
     "data": {
      "text/plain": [
       "Cat_6    5238\n",
       "Cat_4    1089\n",
       "Cat_3     822\n",
       "Cat_2     422\n",
       "Cat_7     203\n",
       "Cat_1     133\n",
       "Cat_5      85\n",
       "Name: Var_1, dtype: int64"
      ]
     },
     "execution_count": 59,
     "metadata": {},
     "output_type": "execute_result"
    }
   ],
   "source": [
    "df[\"Var_1\"].value_counts()"
   ]
  },
  {
   "cell_type": "code",
   "execution_count": 60,
   "id": "dd94fe14-8657-4dec-b084-b1123ac48c6f",
   "metadata": {},
   "outputs": [
    {
     "data": {
      "text/plain": [
       "array(['Cat_4', 'Cat_6', 'Cat_7', 'Cat_3', 'Cat_1', 'Cat_2', nan, 'Cat_5'],\n",
       "      dtype=object)"
      ]
     },
     "execution_count": 60,
     "metadata": {},
     "output_type": "execute_result"
    }
   ],
   "source": [
    "df[\"Var_1\"].unique()"
   ]
  },
  {
   "cell_type": "code",
   "execution_count": 61,
   "id": "2fdfd26c-a989-478b-8141-0b4ced0ac690",
   "metadata": {},
   "outputs": [
    {
     "data": {
      "text/plain": [
       "<AxesSubplot:xlabel='Var_1', ylabel='count'>"
      ]
     },
     "execution_count": 61,
     "metadata": {},
     "output_type": "execute_result"
    },
    {
     "data": {
      "image/png": "[encoded data removed]",
      "text/plain": [
       "<Figure size 432x288 with 1 Axes>"
      ]
     },
     "metadata": {
      "needs_background": "light"
     },
     "output_type": "display_data"
    }
   ],
   "source": [
    "sns.countplot(x= df['Var_1'])"
   ]
  },
  {
   "cell_type": "code",
   "execution_count": 62,
   "id": "a43a5054-58d5-410d-94c9-5fec7254359d",
   "metadata": {},
   "outputs": [],
   "source": [
    "from sklearn.preprocessing import LabelEncoder"
   ]
  },
  {
   "cell_type": "code",
   "execution_count": 63,
   "id": "00141cac-d10f-4b7b-9f0b-394cb2abd14b",
   "metadata": {},
   "outputs": [],
   "source": [
    "lb = LabelEncoder()"
   ]
  },
  {
   "cell_type": "code",
   "execution_count": 64,
   "id": "1370dee6-9e22-42dc-bfce-a240f6d4e34b",
   "metadata": {},
   "outputs": [
    {
     "data": {
      "text/plain": [
       "array([3, 3, 5, ..., 5, 5, 3])"
      ]
     },
     "execution_count": 64,
     "metadata": {},
     "output_type": "execute_result"
    }
   ],
   "source": [
    "lb.fit_transform(df1['Var_1'])"
   ]
  },
  {
   "cell_type": "code",
   "execution_count": 66,
   "id": "1c0edbbe-aee1-4ccc-b4f9-63345e0075c8",
   "metadata": {},
   "outputs": [],
   "source": [
    "df1['Var_1'] = lb.fit_transform(df1['Var_1'])"
   ]
  },
  {
   "cell_type": "code",
   "execution_count": 67,
   "id": "95637026-d0a5-497d-8061-45673b031804",
   "metadata": {},
   "outputs": [
    {
     "name": "stdout",
     "output_type": "stream",
     "text": [
      "<class 'pandas.core.frame.DataFrame'>\n",
      "RangeIndex: 8068 entries, 0 to 8067\n",
      "Data columns (total 10 columns):\n",
      " #   Column           Non-Null Count  Dtype  \n",
      "---  ------           --------------  -----  \n",
      " 0   Gender           8068 non-null   int64  \n",
      " 1   Ever_Married     8068 non-null   float64\n",
      " 2   Age              8068 non-null   int64  \n",
      " 3   Graduated        8068 non-null   float64\n",
      " 4   Profession       8068 non-null   object \n",
      " 5   Work_Experience  8068 non-null   float64\n",
      " 6   Spending_Score   8068 non-null   int64  \n",
      " 7   Family_Size      8068 non-null   float64\n",
      " 8   Var_1            8068 non-null   int32  \n",
      " 9   Segmentation     8068 non-null   object \n",
      "dtypes: float64(4), int32(1), int64(3), object(2)\n",
      "memory usage: 598.9+ KB\n"
     ]
    }
   ],
   "source": [
    "df1.info()\n"
   ]
  },
  {
   "cell_type": "code",
   "execution_count": 73,
   "id": "6e46dd3b-f698-4135-b1a1-997e26c7ff91",
   "metadata": {},
   "outputs": [
    {
     "data": {
      "text/plain": [
       "D    2268\n",
       "A    1972\n",
       "C    1970\n",
       "B    1858\n",
       "Name: Segmentation, dtype: int64"
      ]
     },
     "execution_count": 73,
     "metadata": {},
     "output_type": "execute_result"
    }
   ],
   "source": [
    "df1[\"Segmentation\"].value_counts()"
   ]
  },
  {
   "cell_type": "code",
   "execution_count": 74,
   "id": "9b26463d-c93e-41d5-915f-a81563791a86",
   "metadata": {},
   "outputs": [],
   "source": [
    "df1[\"Segmentation\"]=lb.fit_transform(df1['Segmentation'])"
   ]
  },
  {
   "cell_type": "code",
   "execution_count": 75,
   "id": "61f39561-7b5c-4dce-b9a1-3ccb6ae91bf1",
   "metadata": {},
   "outputs": [
    {
     "data": {
      "text/plain": [
       "0       3\n",
       "1       0\n",
       "2       1\n",
       "3       1\n",
       "4       0\n",
       "       ..\n",
       "8063    3\n",
       "8064    3\n",
       "8065    3\n",
       "8066    1\n",
       "8067    1\n",
       "Name: Segmentation, Length: 8068, dtype: int32"
      ]
     },
     "execution_count": 75,
     "metadata": {},
     "output_type": "execute_result"
    }
   ],
   "source": [
    "df1[\"Segmentation\"]"
   ]
  },
  {
   "cell_type": "code",
   "execution_count": 76,
   "id": "2e4c537c-ca04-4ae8-84ba-6bf10f8e1c57",
   "metadata": {},
   "outputs": [
    {
     "name": "stdout",
     "output_type": "stream",
     "text": [
      "<class 'pandas.core.frame.DataFrame'>\n",
      "RangeIndex: 8068 entries, 0 to 8067\n",
      "Data columns (total 10 columns):\n",
      " #   Column           Non-Null Count  Dtype  \n",
      "---  ------           --------------  -----  \n",
      " 0   Gender           8068 non-null   int64  \n",
      " 1   Ever_Married     8068 non-null   float64\n",
      " 2   Age              8068 non-null   int64  \n",
      " 3   Graduated        8068 non-null   float64\n",
      " 4   Profession       8068 non-null   object \n",
      " 5   Work_Experience  8068 non-null   float64\n",
      " 6   Spending_Score   8068 non-null   int64  \n",
      " 7   Family_Size      8068 non-null   float64\n",
      " 8   Var_1            8068 non-null   int32  \n",
      " 9   Segmentation     8068 non-null   int32  \n",
      "dtypes: float64(4), int32(2), int64(3), object(1)\n",
      "memory usage: 567.4+ KB\n"
     ]
    }
   ],
   "source": [
    "df1.info()"
   ]
  },
  {
   "cell_type": "code",
   "execution_count": 77,
   "id": "041f7f83-c003-4219-9a9b-1ae78053f996",
   "metadata": {},
   "outputs": [
    {
     "data": {
      "text/html": [
       "<div>\n",
       "<style scoped>\n",
       "    .dataframe tbody tr th:only-of-type {\n",
       "        vertical-align: middle;\n",
       "    }\n",
       "\n",
       "    .dataframe tbody tr th {\n",
       "        vertical-align: top;\n",
       "    }\n",
       "\n",
       "    .dataframe thead th {\n",
       "        text-align: right;\n",
       "    }\n",
       "</style>\n",
       "<table border=\"1\" class=\"dataframe\">\n",
       "  <thead>\n",
       "    <tr style=\"text-align: right;\">\n",
       "      <th></th>\n",
       "      <th>Gender</th>\n",
       "      <th>Ever_Married</th>\n",
       "      <th>Age</th>\n",
       "      <th>Graduated</th>\n",
       "      <th>Profession</th>\n",
       "      <th>Work_Experience</th>\n",
       "      <th>Spending_Score</th>\n",
       "      <th>Family_Size</th>\n",
       "      <th>Var_1</th>\n",
       "      <th>Segmentation</th>\n",
       "      <th>prof_Doctor</th>\n",
       "      <th>prof_Engineer</th>\n",
       "      <th>prof_Entertainment</th>\n",
       "      <th>prof_Executive</th>\n",
       "      <th>prof_Healthcare</th>\n",
       "      <th>prof_Homemaker</th>\n",
       "      <th>prof_Lawyer</th>\n",
       "      <th>prof_Marketing</th>\n",
       "      <th>prof_other</th>\n",
       "    </tr>\n",
       "  </thead>\n",
       "  <tbody>\n",
       "    <tr>\n",
       "      <th>0</th>\n",
       "      <td>1</td>\n",
       "      <td>0.0</td>\n",
       "      <td>22</td>\n",
       "      <td>0.0</td>\n",
       "      <td>Healthcare</td>\n",
       "      <td>1.0</td>\n",
       "      <td>0</td>\n",
       "      <td>4.0</td>\n",
       "      <td>3</td>\n",
       "      <td>3</td>\n",
       "      <td>0</td>\n",
       "      <td>0</td>\n",
       "      <td>0</td>\n",
       "      <td>0</td>\n",
       "      <td>1</td>\n",
       "      <td>0</td>\n",
       "      <td>0</td>\n",
       "      <td>0</td>\n",
       "      <td>0</td>\n",
       "    </tr>\n",
       "    <tr>\n",
       "      <th>1</th>\n",
       "      <td>0</td>\n",
       "      <td>1.0</td>\n",
       "      <td>38</td>\n",
       "      <td>1.0</td>\n",
       "      <td>Engineer</td>\n",
       "      <td>1.0</td>\n",
       "      <td>1</td>\n",
       "      <td>3.0</td>\n",
       "      <td>3</td>\n",
       "      <td>0</td>\n",
       "      <td>0</td>\n",
       "      <td>1</td>\n",
       "      <td>0</td>\n",
       "      <td>0</td>\n",
       "      <td>0</td>\n",
       "      <td>0</td>\n",
       "      <td>0</td>\n",
       "      <td>0</td>\n",
       "      <td>0</td>\n",
       "    </tr>\n",
       "    <tr>\n",
       "      <th>2</th>\n",
       "      <td>0</td>\n",
       "      <td>1.0</td>\n",
       "      <td>67</td>\n",
       "      <td>1.0</td>\n",
       "      <td>Engineer</td>\n",
       "      <td>1.0</td>\n",
       "      <td>0</td>\n",
       "      <td>1.0</td>\n",
       "      <td>5</td>\n",
       "      <td>1</td>\n",
       "      <td>0</td>\n",
       "      <td>1</td>\n",
       "      <td>0</td>\n",
       "      <td>0</td>\n",
       "      <td>0</td>\n",
       "      <td>0</td>\n",
       "      <td>0</td>\n",
       "      <td>0</td>\n",
       "      <td>0</td>\n",
       "    </tr>\n",
       "    <tr>\n",
       "      <th>3</th>\n",
       "      <td>1</td>\n",
       "      <td>1.0</td>\n",
       "      <td>67</td>\n",
       "      <td>1.0</td>\n",
       "      <td>Lawyer</td>\n",
       "      <td>0.0</td>\n",
       "      <td>2</td>\n",
       "      <td>2.0</td>\n",
       "      <td>5</td>\n",
       "      <td>1</td>\n",
       "      <td>0</td>\n",
       "      <td>0</td>\n",
       "      <td>0</td>\n",
       "      <td>0</td>\n",
       "      <td>0</td>\n",
       "      <td>0</td>\n",
       "      <td>1</td>\n",
       "      <td>0</td>\n",
       "      <td>0</td>\n",
       "    </tr>\n",
       "    <tr>\n",
       "      <th>4</th>\n",
       "      <td>0</td>\n",
       "      <td>1.0</td>\n",
       "      <td>40</td>\n",
       "      <td>1.0</td>\n",
       "      <td>Entertainment</td>\n",
       "      <td>1.0</td>\n",
       "      <td>2</td>\n",
       "      <td>6.0</td>\n",
       "      <td>5</td>\n",
       "      <td>0</td>\n",
       "      <td>0</td>\n",
       "      <td>0</td>\n",
       "      <td>1</td>\n",
       "      <td>0</td>\n",
       "      <td>0</td>\n",
       "      <td>0</td>\n",
       "      <td>0</td>\n",
       "      <td>0</td>\n",
       "      <td>0</td>\n",
       "    </tr>\n",
       "    <tr>\n",
       "      <th>...</th>\n",
       "      <td>...</td>\n",
       "      <td>...</td>\n",
       "      <td>...</td>\n",
       "      <td>...</td>\n",
       "      <td>...</td>\n",
       "      <td>...</td>\n",
       "      <td>...</td>\n",
       "      <td>...</td>\n",
       "      <td>...</td>\n",
       "      <td>...</td>\n",
       "      <td>...</td>\n",
       "      <td>...</td>\n",
       "      <td>...</td>\n",
       "      <td>...</td>\n",
       "      <td>...</td>\n",
       "      <td>...</td>\n",
       "      <td>...</td>\n",
       "      <td>...</td>\n",
       "      <td>...</td>\n",
       "    </tr>\n",
       "    <tr>\n",
       "      <th>8063</th>\n",
       "      <td>1</td>\n",
       "      <td>0.0</td>\n",
       "      <td>22</td>\n",
       "      <td>0.0</td>\n",
       "      <td>other</td>\n",
       "      <td>0.0</td>\n",
       "      <td>0</td>\n",
       "      <td>7.0</td>\n",
       "      <td>0</td>\n",
       "      <td>3</td>\n",
       "      <td>0</td>\n",
       "      <td>0</td>\n",
       "      <td>0</td>\n",
       "      <td>0</td>\n",
       "      <td>0</td>\n",
       "      <td>0</td>\n",
       "      <td>0</td>\n",
       "      <td>0</td>\n",
       "      <td>1</td>\n",
       "    </tr>\n",
       "    <tr>\n",
       "      <th>8064</th>\n",
       "      <td>1</td>\n",
       "      <td>0.0</td>\n",
       "      <td>35</td>\n",
       "      <td>0.0</td>\n",
       "      <td>Executive</td>\n",
       "      <td>3.0</td>\n",
       "      <td>0</td>\n",
       "      <td>4.0</td>\n",
       "      <td>3</td>\n",
       "      <td>3</td>\n",
       "      <td>0</td>\n",
       "      <td>0</td>\n",
       "      <td>0</td>\n",
       "      <td>1</td>\n",
       "      <td>0</td>\n",
       "      <td>0</td>\n",
       "      <td>0</td>\n",
       "      <td>0</td>\n",
       "      <td>0</td>\n",
       "    </tr>\n",
       "    <tr>\n",
       "      <th>8065</th>\n",
       "      <td>0</td>\n",
       "      <td>0.0</td>\n",
       "      <td>33</td>\n",
       "      <td>1.0</td>\n",
       "      <td>Healthcare</td>\n",
       "      <td>1.0</td>\n",
       "      <td>0</td>\n",
       "      <td>1.0</td>\n",
       "      <td>5</td>\n",
       "      <td>3</td>\n",
       "      <td>0</td>\n",
       "      <td>0</td>\n",
       "      <td>0</td>\n",
       "      <td>0</td>\n",
       "      <td>1</td>\n",
       "      <td>0</td>\n",
       "      <td>0</td>\n",
       "      <td>0</td>\n",
       "      <td>0</td>\n",
       "    </tr>\n",
       "    <tr>\n",
       "      <th>8066</th>\n",
       "      <td>0</td>\n",
       "      <td>0.0</td>\n",
       "      <td>27</td>\n",
       "      <td>1.0</td>\n",
       "      <td>Healthcare</td>\n",
       "      <td>1.0</td>\n",
       "      <td>0</td>\n",
       "      <td>4.0</td>\n",
       "      <td>5</td>\n",
       "      <td>1</td>\n",
       "      <td>0</td>\n",
       "      <td>0</td>\n",
       "      <td>0</td>\n",
       "      <td>0</td>\n",
       "      <td>1</td>\n",
       "      <td>0</td>\n",
       "      <td>0</td>\n",
       "      <td>0</td>\n",
       "      <td>0</td>\n",
       "    </tr>\n",
       "    <tr>\n",
       "      <th>8067</th>\n",
       "      <td>1</td>\n",
       "      <td>1.0</td>\n",
       "      <td>37</td>\n",
       "      <td>1.0</td>\n",
       "      <td>Executive</td>\n",
       "      <td>0.0</td>\n",
       "      <td>1</td>\n",
       "      <td>3.0</td>\n",
       "      <td>3</td>\n",
       "      <td>1</td>\n",
       "      <td>0</td>\n",
       "      <td>0</td>\n",
       "      <td>0</td>\n",
       "      <td>1</td>\n",
       "      <td>0</td>\n",
       "      <td>0</td>\n",
       "      <td>0</td>\n",
       "      <td>0</td>\n",
       "      <td>0</td>\n",
       "    </tr>\n",
       "  </tbody>\n",
       "</table>\n",
       "<p>8068 rows × 19 columns</p>\n",
       "</div>"
      ],
      "text/plain": [
       "      Gender  Ever_Married  Age  Graduated     Profession  Work_Experience  \\\n",
       "0          1           0.0   22        0.0     Healthcare              1.0   \n",
       "1          0           1.0   38        1.0       Engineer              1.0   \n",
       "2          0           1.0   67        1.0       Engineer              1.0   \n",
       "3          1           1.0   67        1.0         Lawyer              0.0   \n",
       "4          0           1.0   40        1.0  Entertainment              1.0   \n",
       "...      ...           ...  ...        ...            ...              ...   \n",
       "8063       1           0.0   22        0.0          other              0.0   \n",
       "8064       1           0.0   35        0.0      Executive              3.0   \n",
       "8065       0           0.0   33        1.0     Healthcare              1.0   \n",
       "8066       0           0.0   27        1.0     Healthcare              1.0   \n",
       "8067       1           1.0   37        1.0      Executive              0.0   \n",
       "\n",
       "      Spending_Score  Family_Size  Var_1  Segmentation  prof_Doctor  \\\n",
       "0                  0          4.0      3             3            0   \n",
       "1                  1          3.0      3             0            0   \n",
       "2                  0          1.0      5             1            0   \n",
       "3                  2          2.0      5             1            0   \n",
       "4                  2          6.0      5             0            0   \n",
       "...              ...          ...    ...           ...          ...   \n",
       "8063               0          7.0      0             3            0   \n",
       "8064               0          4.0      3             3            0   \n",
       "8065               0          1.0      5             3            0   \n",
       "8066               0          4.0      5             1            0   \n",
       "8067               1          3.0      3             1            0   \n",
       "\n",
       "      prof_Engineer  prof_Entertainment  prof_Executive  prof_Healthcare  \\\n",
       "0                 0                   0               0                1   \n",
       "1                 1                   0               0                0   \n",
       "2                 1                   0               0                0   \n",
       "3                 0                   0               0                0   \n",
       "4                 0                   1               0                0   \n",
       "...             ...                 ...             ...              ...   \n",
       "8063              0                   0               0                0   \n",
       "8064              0                   0               1                0   \n",
       "8065              0                   0               0                1   \n",
       "8066              0                   0               0                1   \n",
       "8067              0                   0               1                0   \n",
       "\n",
       "      prof_Homemaker  prof_Lawyer  prof_Marketing  prof_other  \n",
       "0                  0            0               0           0  \n",
       "1                  0            0               0           0  \n",
       "2                  0            0               0           0  \n",
       "3                  0            1               0           0  \n",
       "4                  0            0               0           0  \n",
       "...              ...          ...             ...         ...  \n",
       "8063               0            0               0           1  \n",
       "8064               0            0               0           0  \n",
       "8065               0            0               0           0  \n",
       "8066               0            0               0           0  \n",
       "8067               0            0               0           0  \n",
       "\n",
       "[8068 rows x 19 columns]"
      ]
     },
     "execution_count": 77,
     "metadata": {},
     "output_type": "execute_result"
    }
   ],
   "source": [
    "final_df = pd.concat([df1,df_prof],axis=1)\n",
    "final_df"
   ]
  },
  {
   "cell_type": "code",
   "execution_count": 78,
   "id": "81a5a743-b2a4-4ce9-82f3-0122f008dcec",
   "metadata": {},
   "outputs": [],
   "source": [
    "final_df.drop(\"Profession\",axis=1,inplace=True)"
   ]
  },
  {
   "cell_type": "code",
   "execution_count": 79,
   "id": "570f34a2-f81c-43ea-a213-d2b80fae2ce9",
   "metadata": {},
   "outputs": [
    {
     "name": "stdout",
     "output_type": "stream",
     "text": [
      "<class 'pandas.core.frame.DataFrame'>\n",
      "RangeIndex: 8068 entries, 0 to 8067\n",
      "Data columns (total 18 columns):\n",
      " #   Column              Non-Null Count  Dtype  \n",
      "---  ------              --------------  -----  \n",
      " 0   Gender              8068 non-null   int64  \n",
      " 1   Ever_Married        8068 non-null   float64\n",
      " 2   Age                 8068 non-null   int64  \n",
      " 3   Graduated           8068 non-null   float64\n",
      " 4   Work_Experience     8068 non-null   float64\n",
      " 5   Spending_Score      8068 non-null   int64  \n",
      " 6   Family_Size         8068 non-null   float64\n",
      " 7   Var_1               8068 non-null   int32  \n",
      " 8   Segmentation        8068 non-null   int32  \n",
      " 9   prof_Doctor         8068 non-null   uint8  \n",
      " 10  prof_Engineer       8068 non-null   uint8  \n",
      " 11  prof_Entertainment  8068 non-null   uint8  \n",
      " 12  prof_Executive      8068 non-null   uint8  \n",
      " 13  prof_Healthcare     8068 non-null   uint8  \n",
      " 14  prof_Homemaker      8068 non-null   uint8  \n",
      " 15  prof_Lawyer         8068 non-null   uint8  \n",
      " 16  prof_Marketing      8068 non-null   uint8  \n",
      " 17  prof_other          8068 non-null   uint8  \n",
      "dtypes: float64(4), int32(2), int64(3), uint8(9)\n",
      "memory usage: 575.3 KB\n"
     ]
    }
   ],
   "source": [
    "final_df.info()"
   ]
  },
  {
   "cell_type": "markdown",
   "id": "c41b61c9-33b9-4318-a533-6b30987088b3",
   "metadata": {},
   "source": [
    "# Model Training"
   ]
  },
  {
   "cell_type": "code",
   "execution_count": 80,
   "id": "6b0b3859-7d02-4c5c-8f80-7e86c0c7fac9",
   "metadata": {},
   "outputs": [],
   "source": [
    "x = final_df.drop(\"Segmentation\",axis=1)\n",
    "y= final_df[\"Segmentation\"]"
   ]
  },
  {
   "cell_type": "code",
   "execution_count": 81,
   "id": "d157d27e-94bd-466a-a64b-0f81e987b120",
   "metadata": {},
   "outputs": [],
   "source": [
    "x_train,x_test,y_train,y_test = train_test_split(x,y,test_size=0.2,random_state=10, stratify=y)"
   ]
  },
  {
   "cell_type": "code",
   "execution_count": 82,
   "id": "4d7a2747-37b2-4bd4-a836-63159c26d6fc",
   "metadata": {},
   "outputs": [
    {
     "data": {
      "text/html": [
       "<div>\n",
       "<style scoped>\n",
       "    .dataframe tbody tr th:only-of-type {\n",
       "        vertical-align: middle;\n",
       "    }\n",
       "\n",
       "    .dataframe tbody tr th {\n",
       "        vertical-align: top;\n",
       "    }\n",
       "\n",
       "    .dataframe thead th {\n",
       "        text-align: right;\n",
       "    }\n",
       "</style>\n",
       "<table border=\"1\" class=\"dataframe\">\n",
       "  <thead>\n",
       "    <tr style=\"text-align: right;\">\n",
       "      <th></th>\n",
       "      <th>Gender</th>\n",
       "      <th>Ever_Married</th>\n",
       "      <th>Age</th>\n",
       "      <th>Graduated</th>\n",
       "      <th>Work_Experience</th>\n",
       "      <th>Spending_Score</th>\n",
       "      <th>Family_Size</th>\n",
       "      <th>Var_1</th>\n",
       "      <th>prof_Doctor</th>\n",
       "      <th>prof_Engineer</th>\n",
       "      <th>prof_Entertainment</th>\n",
       "      <th>prof_Executive</th>\n",
       "      <th>prof_Healthcare</th>\n",
       "      <th>prof_Homemaker</th>\n",
       "      <th>prof_Lawyer</th>\n",
       "      <th>prof_Marketing</th>\n",
       "      <th>prof_other</th>\n",
       "    </tr>\n",
       "  </thead>\n",
       "  <tbody>\n",
       "    <tr>\n",
       "      <th>440</th>\n",
       "      <td>0</td>\n",
       "      <td>0.0</td>\n",
       "      <td>18</td>\n",
       "      <td>0.0</td>\n",
       "      <td>0.0</td>\n",
       "      <td>0</td>\n",
       "      <td>6.0</td>\n",
       "      <td>5</td>\n",
       "      <td>0</td>\n",
       "      <td>0</td>\n",
       "      <td>0</td>\n",
       "      <td>0</td>\n",
       "      <td>0</td>\n",
       "      <td>0</td>\n",
       "      <td>0</td>\n",
       "      <td>0</td>\n",
       "      <td>1</td>\n",
       "    </tr>\n",
       "    <tr>\n",
       "      <th>935</th>\n",
       "      <td>1</td>\n",
       "      <td>0.0</td>\n",
       "      <td>35</td>\n",
       "      <td>1.0</td>\n",
       "      <td>5.0</td>\n",
       "      <td>0</td>\n",
       "      <td>2.0</td>\n",
       "      <td>5</td>\n",
       "      <td>0</td>\n",
       "      <td>0</td>\n",
       "      <td>0</td>\n",
       "      <td>0</td>\n",
       "      <td>0</td>\n",
       "      <td>0</td>\n",
       "      <td>0</td>\n",
       "      <td>0</td>\n",
       "      <td>0</td>\n",
       "    </tr>\n",
       "    <tr>\n",
       "      <th>4238</th>\n",
       "      <td>0</td>\n",
       "      <td>1.0</td>\n",
       "      <td>56</td>\n",
       "      <td>1.0</td>\n",
       "      <td>1.0</td>\n",
       "      <td>1</td>\n",
       "      <td>2.0</td>\n",
       "      <td>5</td>\n",
       "      <td>0</td>\n",
       "      <td>0</td>\n",
       "      <td>1</td>\n",
       "      <td>0</td>\n",
       "      <td>0</td>\n",
       "      <td>0</td>\n",
       "      <td>0</td>\n",
       "      <td>0</td>\n",
       "      <td>0</td>\n",
       "    </tr>\n",
       "    <tr>\n",
       "      <th>7427</th>\n",
       "      <td>0</td>\n",
       "      <td>0.0</td>\n",
       "      <td>31</td>\n",
       "      <td>1.0</td>\n",
       "      <td>8.0</td>\n",
       "      <td>0</td>\n",
       "      <td>1.0</td>\n",
       "      <td>5</td>\n",
       "      <td>0</td>\n",
       "      <td>0</td>\n",
       "      <td>0</td>\n",
       "      <td>0</td>\n",
       "      <td>0</td>\n",
       "      <td>1</td>\n",
       "      <td>0</td>\n",
       "      <td>0</td>\n",
       "      <td>0</td>\n",
       "    </tr>\n",
       "    <tr>\n",
       "      <th>7571</th>\n",
       "      <td>1</td>\n",
       "      <td>0.0</td>\n",
       "      <td>20</td>\n",
       "      <td>0.0</td>\n",
       "      <td>7.0</td>\n",
       "      <td>0</td>\n",
       "      <td>3.0</td>\n",
       "      <td>5</td>\n",
       "      <td>0</td>\n",
       "      <td>0</td>\n",
       "      <td>0</td>\n",
       "      <td>0</td>\n",
       "      <td>1</td>\n",
       "      <td>0</td>\n",
       "      <td>0</td>\n",
       "      <td>0</td>\n",
       "      <td>0</td>\n",
       "    </tr>\n",
       "    <tr>\n",
       "      <th>...</th>\n",
       "      <td>...</td>\n",
       "      <td>...</td>\n",
       "      <td>...</td>\n",
       "      <td>...</td>\n",
       "      <td>...</td>\n",
       "      <td>...</td>\n",
       "      <td>...</td>\n",
       "      <td>...</td>\n",
       "      <td>...</td>\n",
       "      <td>...</td>\n",
       "      <td>...</td>\n",
       "      <td>...</td>\n",
       "      <td>...</td>\n",
       "      <td>...</td>\n",
       "      <td>...</td>\n",
       "      <td>...</td>\n",
       "      <td>...</td>\n",
       "    </tr>\n",
       "    <tr>\n",
       "      <th>7740</th>\n",
       "      <td>0</td>\n",
       "      <td>0.0</td>\n",
       "      <td>26</td>\n",
       "      <td>1.0</td>\n",
       "      <td>1.0</td>\n",
       "      <td>0</td>\n",
       "      <td>7.0</td>\n",
       "      <td>1</td>\n",
       "      <td>0</td>\n",
       "      <td>0</td>\n",
       "      <td>0</td>\n",
       "      <td>0</td>\n",
       "      <td>1</td>\n",
       "      <td>0</td>\n",
       "      <td>0</td>\n",
       "      <td>0</td>\n",
       "      <td>0</td>\n",
       "    </tr>\n",
       "    <tr>\n",
       "      <th>597</th>\n",
       "      <td>0</td>\n",
       "      <td>1.0</td>\n",
       "      <td>60</td>\n",
       "      <td>0.0</td>\n",
       "      <td>9.0</td>\n",
       "      <td>0</td>\n",
       "      <td>4.0</td>\n",
       "      <td>2</td>\n",
       "      <td>0</td>\n",
       "      <td>0</td>\n",
       "      <td>1</td>\n",
       "      <td>0</td>\n",
       "      <td>0</td>\n",
       "      <td>0</td>\n",
       "      <td>0</td>\n",
       "      <td>0</td>\n",
       "      <td>0</td>\n",
       "    </tr>\n",
       "    <tr>\n",
       "      <th>5542</th>\n",
       "      <td>1</td>\n",
       "      <td>0.0</td>\n",
       "      <td>21</td>\n",
       "      <td>0.0</td>\n",
       "      <td>1.0</td>\n",
       "      <td>0</td>\n",
       "      <td>5.0</td>\n",
       "      <td>3</td>\n",
       "      <td>0</td>\n",
       "      <td>0</td>\n",
       "      <td>0</td>\n",
       "      <td>0</td>\n",
       "      <td>1</td>\n",
       "      <td>0</td>\n",
       "      <td>0</td>\n",
       "      <td>0</td>\n",
       "      <td>0</td>\n",
       "    </tr>\n",
       "    <tr>\n",
       "      <th>5764</th>\n",
       "      <td>1</td>\n",
       "      <td>1.0</td>\n",
       "      <td>62</td>\n",
       "      <td>1.0</td>\n",
       "      <td>5.0</td>\n",
       "      <td>0</td>\n",
       "      <td>1.0</td>\n",
       "      <td>2</td>\n",
       "      <td>1</td>\n",
       "      <td>0</td>\n",
       "      <td>0</td>\n",
       "      <td>0</td>\n",
       "      <td>0</td>\n",
       "      <td>0</td>\n",
       "      <td>0</td>\n",
       "      <td>0</td>\n",
       "      <td>0</td>\n",
       "    </tr>\n",
       "    <tr>\n",
       "      <th>5259</th>\n",
       "      <td>1</td>\n",
       "      <td>1.0</td>\n",
       "      <td>37</td>\n",
       "      <td>1.0</td>\n",
       "      <td>2.0</td>\n",
       "      <td>2</td>\n",
       "      <td>5.0</td>\n",
       "      <td>5</td>\n",
       "      <td>0</td>\n",
       "      <td>0</td>\n",
       "      <td>0</td>\n",
       "      <td>0</td>\n",
       "      <td>0</td>\n",
       "      <td>0</td>\n",
       "      <td>0</td>\n",
       "      <td>0</td>\n",
       "      <td>1</td>\n",
       "    </tr>\n",
       "  </tbody>\n",
       "</table>\n",
       "<p>6454 rows × 17 columns</p>\n",
       "</div>"
      ],
      "text/plain": [
       "      Gender  Ever_Married  Age  Graduated  Work_Experience  Spending_Score  \\\n",
       "440        0           0.0   18        0.0              0.0               0   \n",
       "935        1           0.0   35        1.0              5.0               0   \n",
       "4238       0           1.0   56        1.0              1.0               1   \n",
       "7427       0           0.0   31        1.0              8.0               0   \n",
       "7571       1           0.0   20        0.0              7.0               0   \n",
       "...      ...           ...  ...        ...              ...             ...   \n",
       "7740       0           0.0   26        1.0              1.0               0   \n",
       "597        0           1.0   60        0.0              9.0               0   \n",
       "5542       1           0.0   21        0.0              1.0               0   \n",
       "5764       1           1.0   62        1.0              5.0               0   \n",
       "5259       1           1.0   37        1.0              2.0               2   \n",
       "\n",
       "      Family_Size  Var_1  prof_Doctor  prof_Engineer  prof_Entertainment  \\\n",
       "440           6.0      5            0              0                   0   \n",
       "935           2.0      5            0              0                   0   \n",
       "4238          2.0      5            0              0                   1   \n",
       "7427          1.0      5            0              0                   0   \n",
       "7571          3.0      5            0              0                   0   \n",
       "...           ...    ...          ...            ...                 ...   \n",
       "7740          7.0      1            0              0                   0   \n",
       "597           4.0      2            0              0                   1   \n",
       "5542          5.0      3            0              0                   0   \n",
       "5764          1.0      2            1              0                   0   \n",
       "5259          5.0      5            0              0                   0   \n",
       "\n",
       "      prof_Executive  prof_Healthcare  prof_Homemaker  prof_Lawyer  \\\n",
       "440                0                0               0            0   \n",
       "935                0                0               0            0   \n",
       "4238               0                0               0            0   \n",
       "7427               0                0               1            0   \n",
       "7571               0                1               0            0   \n",
       "...              ...              ...             ...          ...   \n",
       "7740               0                1               0            0   \n",
       "597                0                0               0            0   \n",
       "5542               0                1               0            0   \n",
       "5764               0                0               0            0   \n",
       "5259               0                0               0            0   \n",
       "\n",
       "      prof_Marketing  prof_other  \n",
       "440                0           1  \n",
       "935                0           0  \n",
       "4238               0           0  \n",
       "7427               0           0  \n",
       "7571               0           0  \n",
       "...              ...         ...  \n",
       "7740               0           0  \n",
       "597                0           0  \n",
       "5542               0           0  \n",
       "5764               0           0  \n",
       "5259               0           1  \n",
       "\n",
       "[6454 rows x 17 columns]"
      ]
     },
     "execution_count": 82,
     "metadata": {},
     "output_type": "execute_result"
    }
   ],
   "source": [
    "x_train"
   ]
  },
  {
   "cell_type": "code",
   "execution_count": 83,
   "id": "195113b4-3173-403f-8f70-faa7897fbc00",
   "metadata": {},
   "outputs": [
    {
     "data": {
      "text/plain": [
       "440     3\n",
       "935     0\n",
       "4238    0\n",
       "7427    3\n",
       "7571    3\n",
       "       ..\n",
       "7740    1\n",
       "597     1\n",
       "5542    3\n",
       "5764    1\n",
       "5259    2\n",
       "Name: Segmentation, Length: 6454, dtype: int32"
      ]
     },
     "execution_count": 83,
     "metadata": {},
     "output_type": "execute_result"
    }
   ],
   "source": [
    "y_train"
   ]
  },
  {
   "cell_type": "code",
   "execution_count": 84,
   "id": "5277b935-93eb-4843-bc70-8371132ea753",
   "metadata": {},
   "outputs": [
    {
     "data": {
      "text/plain": [
       "5254    2\n",
       "2639    2\n",
       "224     3\n",
       "7283    3\n",
       "6080    2\n",
       "       ..\n",
       "6581    3\n",
       "4427    1\n",
       "1476    2\n",
       "7835    1\n",
       "467     3\n",
       "Name: Segmentation, Length: 1614, dtype: int32"
      ]
     },
     "execution_count": 84,
     "metadata": {},
     "output_type": "execute_result"
    }
   ],
   "source": [
    "y_test"
   ]
  },
  {
   "cell_type": "code",
   "execution_count": 85,
   "id": "9aac9cfb-2682-4d53-b3e1-b93ee44c07bb",
   "metadata": {},
   "outputs": [
    {
     "name": "stderr",
     "output_type": "stream",
     "text": [
      "C:\\Users\\DELL\\AppData\\Local\\Programs\\Python\\Python310\\lib\\site-packages\\sklearn\\linear_model\\_logistic.py:814: ConvergenceWarning: lbfgs failed to converge (status=1):\n",
      "STOP: TOTAL NO. of ITERATIONS REACHED LIMIT.\n",
      "\n",
      "Increase the number of iterations (max_iter) or scale the data as shown in:\n",
      "    https://scikit-learn.org/stable/modules/preprocessing.html\n",
      "Please also refer to the documentation for alternative solver options:\n",
      "    https://scikit-learn.org/stable/modules/linear_model.html#logistic-regression\n",
      "  n_iter_i = _check_optimize_result(\n"
     ]
    },
    {
     "data": {
      "text/plain": [
       "LogisticRegression()"
      ]
     },
     "execution_count": 85,
     "metadata": {},
     "output_type": "execute_result"
    }
   ],
   "source": [
    "model = LogisticRegression()\n",
    "model.fit(x_train,y_train)"
   ]
  },
  {
   "cell_type": "code",
   "execution_count": 86,
   "id": "f63524e1-ef82-46fd-97e7-a85ccc44f38d",
   "metadata": {},
   "outputs": [
    {
     "name": "stderr",
     "output_type": "stream",
     "text": [
      "C:\\Users\\DELL\\AppData\\Local\\Programs\\Python\\Python310\\lib\\site-packages\\sklearn\\linear_model\\_logistic.py:814: ConvergenceWarning: lbfgs failed to converge (status=1):\n",
      "STOP: TOTAL NO. of ITERATIONS REACHED LIMIT.\n",
      "\n",
      "Increase the number of iterations (max_iter) or scale the data as shown in:\n",
      "    https://scikit-learn.org/stable/modules/preprocessing.html\n",
      "Please also refer to the documentation for alternative solver options:\n",
      "    https://scikit-learn.org/stable/modules/linear_model.html#logistic-regression\n",
      "  n_iter_i = _check_optimize_result(\n"
     ]
    },
    {
     "data": {
      "text/plain": [
       "LogisticRegression(max_iter=1000)"
      ]
     },
     "execution_count": 86,
     "metadata": {},
     "output_type": "execute_result"
    }
   ],
   "source": [
    "model = LogisticRegression(max_iter=1000)\n",
    "model.fit(x_train,y_train)"
   ]
  },
  {
   "cell_type": "code",
   "execution_count": 87,
   "id": "a92b28af-617b-4e9a-9662-e9545a466b6d",
   "metadata": {},
   "outputs": [
    {
     "data": {
      "text/plain": [
       "LogisticRegression(max_iter=2000)"
      ]
     },
     "execution_count": 87,
     "metadata": {},
     "output_type": "execute_result"
    }
   ],
   "source": [
    "model = LogisticRegression(max_iter=2000)\n",
    "model.fit(x_train,y_train)"
   ]
  },
  {
   "cell_type": "markdown",
   "id": "d6e1f885-2f0c-4499-a215-1aff36b40948",
   "metadata": {},
   "source": [
    "## Model Evolution"
   ]
  },
  {
   "cell_type": "code",
   "execution_count": 89,
   "id": "af2f2a1d-96ec-4f91-b667-9ecfbf387444",
   "metadata": {},
   "outputs": [
    {
     "name": "stdout",
     "output_type": "stream",
     "text": [
      "[[194  43  83  74]\n",
      " [113  60 150  49]\n",
      " [ 58  49 232  55]\n",
      " [ 91  14  29 320]]\n",
      "              precision    recall  f1-score   support\n",
      "\n",
      "           0       0.43      0.49      0.46       394\n",
      "           1       0.36      0.16      0.22       372\n",
      "           2       0.47      0.59      0.52       394\n",
      "           3       0.64      0.70      0.67       454\n",
      "\n",
      "    accuracy                           0.50      1614\n",
      "   macro avg       0.47      0.49      0.47      1614\n",
      "weighted avg       0.48      0.50      0.48      1614\n",
      "\n"
     ]
    }
   ],
   "source": [
    "#### Testing Data Evaluation\n",
    "\n",
    "y_pred_test = model.predict(x_test)\n",
    "# y_pred_test\n",
    "\n",
    "cnf_matrix = confusion_matrix(y_test, y_pred_test)\n",
    "print(cnf_matrix)\n",
    "\n",
    "\n",
    "clf_report= classification_report(y_test, y_pred_test)\n",
    "print(clf_report)"
   ]
  },
  {
   "cell_type": "code",
   "execution_count": 90,
   "id": "98255c1e-63b3-4961-97e9-fbcf295114d5",
   "metadata": {},
   "outputs": [],
   "source": [
    "from sklearn.metrics import multilabel_confusion_matrix"
   ]
  },
  {
   "cell_type": "code",
   "execution_count": 91,
   "id": "4a8d21d9-167f-4439-aee0-36f42c5ebf48",
   "metadata": {},
   "outputs": [
    {
     "name": "stdout",
     "output_type": "stream",
     "text": [
      "[[[ 958  262]\n",
      "  [ 200  194]]\n",
      "\n",
      " [[1136  106]\n",
      "  [ 312   60]]\n",
      "\n",
      " [[ 958  262]\n",
      "  [ 162  232]]\n",
      "\n",
      " [[ 982  178]\n",
      "  [ 134  320]]]\n"
     ]
    }
   ],
   "source": [
    "m_cnf_matrix = multilabel_confusion_matrix(y_test, y_pred_test)\n",
    "print(m_cnf_matrix)"
   ]
  },
  {
   "cell_type": "code",
   "execution_count": 92,
   "id": "5071f13c-4548-4589-9591-7395248b9a3c",
   "metadata": {},
   "outputs": [
    {
     "data": {
      "text/plain": [
       "LogisticRegression(max_iter=2000, multi_class='ovr')"
      ]
     },
     "execution_count": 92,
     "metadata": {},
     "output_type": "execute_result"
    }
   ],
   "source": [
    "model = LogisticRegression(max_iter=2000,multi_class='ovr')\n",
    "model.fit(x_train,y_train)"
   ]
  },
  {
   "cell_type": "code",
   "execution_count": 93,
   "id": "6b5c1e83-bb2c-465c-a3a3-1218de5fc33e",
   "metadata": {},
   "outputs": [
    {
     "name": "stdout",
     "output_type": "stream",
     "text": [
      "[[189  31  94  80]\n",
      " [119  44 157  52]\n",
      " [ 59  32 244  59]\n",
      " [ 87  12  30 325]]\n",
      "              precision    recall  f1-score   support\n",
      "\n",
      "           0       0.42      0.48      0.45       394\n",
      "           1       0.37      0.12      0.18       372\n",
      "           2       0.46      0.62      0.53       394\n",
      "           3       0.63      0.72      0.67       454\n",
      "\n",
      "    accuracy                           0.50      1614\n",
      "   macro avg       0.47      0.48      0.46      1614\n",
      "weighted avg       0.48      0.50      0.47      1614\n",
      "\n",
      "[[[ 955  265]\n",
      "  [ 205  189]]\n",
      "\n",
      " [[1167   75]\n",
      "  [ 328   44]]\n",
      "\n",
      " [[ 939  281]\n",
      "  [ 150  244]]\n",
      "\n",
      " [[ 969  191]\n",
      "  [ 129  325]]]\n"
     ]
    }
   ],
   "source": [
    " ### Testing Data Evaluation\n",
    "\n",
    "y_pred_test = model.predict(x_test)\n",
    "# y_pred_test\n",
    "\n",
    "cnf_matrix = confusion_matrix(y_test, y_pred_test)\n",
    "print(cnf_matrix)\n",
    "\n",
    "\n",
    "clf_report= classification_report(y_test, y_pred_test)\n",
    "print(clf_report)\n",
    "\n",
    "m_cnf_matrix = multilabel_confusion_matrix(y_test, y_pred_test)\n",
    "print(m_cnf_matrix)\n",
    "\n"
   ]
  },
  {
   "cell_type": "code",
   "execution_count": 94,
   "id": "fa0f9060-5c85-4d9a-877e-8e63efe170d3",
   "metadata": {},
   "outputs": [
    {
     "name": "stdout",
     "output_type": "stream",
     "text": [
      "[[ 742  141  363  332]\n",
      " [ 469  221  631  165]\n",
      " [ 223  111 1033  209]\n",
      " [ 350   65  110 1289]]\n",
      "              precision    recall  f1-score   support\n",
      "\n",
      "           0       0.42      0.47      0.44      1578\n",
      "           1       0.41      0.15      0.22      1486\n",
      "           2       0.48      0.66      0.56      1576\n",
      "           3       0.65      0.71      0.68      1814\n",
      "\n",
      "    accuracy                           0.51      6454\n",
      "   macro avg       0.49      0.50      0.47      6454\n",
      "weighted avg       0.50      0.51      0.48      6454\n",
      "\n",
      "[[[3834 1042]\n",
      "  [ 836  742]]\n",
      "\n",
      " [[4651  317]\n",
      "  [1265  221]]\n",
      "\n",
      " [[3774 1104]\n",
      "  [ 543 1033]]\n",
      "\n",
      " [[3934  706]\n",
      "  [ 525 1289]]]\n"
     ]
    }
   ],
   "source": [
    "#### Training Data Evaluation\n",
    "\n",
    "y_pred_train = model.predict(x_train)\n",
    "# y_pred_test\n",
    "\n",
    "cnf_matrix = confusion_matrix(y_train, y_pred_train)\n",
    "print(cnf_matrix)\n",
    "\n",
    "\n",
    "clf_report= classification_report(y_train, y_pred_train)\n",
    "print(clf_report)\n",
    "\n",
    "m_cnf_matrix = multilabel_confusion_matrix(y_train, y_pred_train)\n",
    "print(m_cnf_matrix)\n",
    "\n"
   ]
  },
  {
   "cell_type": "code",
   "execution_count": null,
   "id": "34eca899-dc88-4b3e-bde5-c3a06c97b3fd",
   "metadata": {},
   "outputs": [],
   "source": []
  }
 ],
 "metadata": {
  "kernelspec": {
   "display_name": "Python 3 (ipykernel)",
   "language": "python",
   "name": "python3"
  },
  "language_info": {
   "codemirror_mode": {
    "name": "ipython",
    "version": 3
   },
   "file_extension": ".py",
   "mimetype": "text/x-python",
   "name": "python",
   "nbconvert_exporter": "python",
   "pygments_lexer": "ipython3",
   "version": "3.10.2"
  }
 },
 "nbformat": 4,
 "nbformat_minor": 5
}
